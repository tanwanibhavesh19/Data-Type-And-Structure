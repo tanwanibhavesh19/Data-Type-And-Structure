{
  "nbformat": 4,
  "nbformat_minor": 0,
  "metadata": {
    "colab": {
      "provenance": []
    },
    "kernelspec": {
      "name": "python3",
      "display_name": "Python 3"
    },
    "language_info": {
      "name": "python"
    }
  },
  "cells": [
    {
      "cell_type": "markdown",
      "source": [
        "# **Data Type and Sturcture**"
      ],
      "metadata": {
        "id": "DRoN887mqkVm"
      }
    },
    {
      "cell_type": "markdown",
      "source": [
        "# Theoratical Questions\n",
        "1. What are data structures, and why are they important ?\n",
        "  - ata structures are fundamental ways to organize and store data in a computer, enabling efficient access and manipulation.\n",
        "  - They are important because they improve code efficiency, readability, and allow for the development of complex algorithms and applications.\n",
        "\n",
        "2. Explain the difference between mutable and immutable data types with examples.\n",
        "  - **Mutable Data Types:**\n",
        "  - **Definition:** Mutable data types are those whose values can be modified after they are created.\n",
        "  - **Examples:**\n",
        "   **Lists:* You can add, remove, or modify elements in a list after it's created.\n",
        "   **Dictionaries:* You can add, remove, or modify key-value pairs in a dictionary after it's created.\n",
        "  - **Immutable Data Types:**\n",
        "  - **Definition:** Immutable data types are those whose values cannot be changed after they are created.\n",
        "  - **Examples:**\n",
        "  **Strings:* Once a string is created, you cannot change its individual characters.\n",
        "  **Tuples:* Once a tuple is created, you cannot change its elements.\n",
        "\n",
        "3. What are the main differences between lists and tuples in Python ?\n",
        "  - The primary difference between lists and tuples in Python lies in their mutability: lists are mutable (can be changed), while tuples are immutable (cannot be changed after creation).\n",
        "\n",
        "4. Describe how dictionaries store data ?\n",
        "  - Dictionaries are used to store data values in key:value pairs.\n",
        "  - A dictionary is a collection which is ordered*, changeable and do not allow duplicates.\n",
        "  - Dictionaries are written with curly brackets, and have keys and values:\n",
        "  - **Example:**\n",
        "   Create and print a dictionary:\n",
        "\n",
        "     thisdict ={\n",
        "    \"brand\": \"Ford\",\n",
        "    \"model\": \"Mustang\",\n",
        "    \"year\": 1964\n",
        "   }\n",
        "    print(thisdict)\n",
        "\n",
        "5. Why might you use a set instead of a list in Python ?\n",
        "  - Because sets cannot have multiple occurrences of the same element.\n",
        "  - it makes sets highly useful to efficiently remove duplicate values from a list or tuple and to perform common math operations like unions and intersections.\n",
        "\n",
        "6. What is a string in Python, and how is it different from a list ?\n",
        "  - In Python, a string is an immutable sequence of characters enclosed in single or double quotes.\n",
        "  - while a list is a mutable, ordered sequence of items (which can be of any data type) enclosed in square brackets.\n",
        "\n",
        "7. How do tuples ensure data integrity in Python ?\n",
        "  - Tuples are immutable to ensure that their contents remain constant throughout their lifecycle.\n",
        "  - guaranteeing data integrity and reliability.\n",
        "  - This immutability allows tuples to be used as keys in dictionaries and elements in sets, as they can be hashed.\n",
        "\n",
        "8. What is a hash table, and how does it relate to dictionaries in Python ?\n",
        "  -  A hash table is a data structure that uses a hash function to map keys to values, enabling fast lookups.\n",
        "  - In Python, dictionaries (or dicts) are implemented using hash tables, allowing for efficient storage and retrieval of key-value pairs.\n",
        "\n",
        "9. Can lists contain different data types in Python ?\n",
        "  - Yes, a list can also contain a mix of Python types including strings, floats, and booleans.\n",
        "\n",
        "10. Explain why strings are immutable in Python ?\n",
        "  - Strings in Python are “immutable” which means they can not be changed after they are created. Some other immutable data types are integers, float, boolean, etc.\n",
        "  - The immutability of Python string is very useful as it helps in hashing, performance optimization, safety, ease of use, etc.\n",
        "\n",
        "11. What advantages do dictionaries offer over lists for certain tasks ?\n",
        "  - Dictionaries excel over lists for tasks involving quick lookups and associating data with unique keys, while lists are better suited for ordered sequences and maintaining element order.\n",
        "\n",
        "12. Describe a scenario where using a tuple would be preferable over a list.\n",
        "  - Use a list if you need a mutable collection of items where you may need to add, remove, or change elements.\n",
        "  - Lists are more flexible and have more built-in methods, making them ideal for dynamic collections.\n",
        "  - Use a tuple if you need an immutable collection where the elements won't change after creation.\n",
        "\n",
        "13. How do sets handle duplicate values in Python ?\n",
        "  - Python sets cannot have duplicate values. While you cannot modify the individual elements directly.\n",
        "  - you can still add or remove elements from the set.\n",
        "  - Output: The first code explains that the set cannot have a duplicate value.\n",
        "\n",
        "14. How does the “in” keyword work differently for lists and dictionaries ?\n",
        "  - The in operation for the dictionary tests on keys.\n",
        "  - The key of the dictionary is a unique value as well as the set, and the execution time is about the same as for sets.\n",
        "  - On the other hand, dictionary values can be duplicated like a list.\n",
        "\n",
        "15. Can you modify the elements of a tuple? Explain why or why not ?\n",
        "  - No, you cannot directly modify the elements of a tuple in Python because tuples are immutable meaning their contents cannot be changed after creation.\n",
        "**Here's why:**\n",
        "\n",
        "**Immutability:** Tuples are designed to be a fixed, unchangeable sequence of items. Once a tuple is created, you cannot add, remove, or modify its elements.\n",
        "\n",
        "**Efficiency:** The immutability of tuples allows for certain optimizations, making them faster to process than mutable data structures like lists.\n",
        "\n",
        "**Data Integrity:** Immutability helps ensure data integrity by preventing accidental or unintended modifications to the tuple's contents.\n",
        "\n",
        "**Alternative for Immutable Data:** If you need a sequence of data that should not be changed, use a tuple. If you need a sequence that can be modified, use a list instead.\n",
        "\n",
        "16. What is a nested dictionary, and give an example of its use case ?\n",
        "  - A nested dictionary is a dictionary where the values are themselves dictionaries, allowing for the creation of complex, hierarchical data structures.\n",
        "  - A use case is representing an organizational chart, where each department (key) has a dictionary of employees (values).\n",
        "\n",
        "17. Describe the time complexity of accessing elements in a dictionary ?\n",
        "  - Accessing elements in a dictionary (or hash map) by key has an average time complexity of O(1), meaning it takes constant time, regardless of the dictionary's size.\n",
        "\n",
        "18.  In what situations are lists preferred over dictionaries ?\n",
        "  - For quick data look-ups, configurations, or caches, favor dictionaries. For ordered collections and sequence operations, such as maintaining a stack or queue, lists are more suitable.\n",
        "\n",
        "19. Why are dictionaries considered unordered, and how does that affect data retrieval ?\n",
        "  - Dictionaries are considered unordered because they don't inherently maintain the order in which elements are added; instead, they prioritize fast key-based access, meaning retrieval is based on the key, not a position or index.\n",
        "\n",
        "20. Explain the difference between a list and a dictionary in terms of data retrieval.\n",
        "  - In terms of data retrieval, lists access elements by their numerical index (starting from 0), while dictionaries access elements by their unique key, offering faster lookups for specific data.\n",
        "\n",
        "  "
      ],
      "metadata": {
        "id": "Le-gllZmqzTH"
      }
    },
    {
      "cell_type": "markdown",
      "source": [
        "# **Practical Questions**"
      ],
      "metadata": {
        "id": "uzcqE6MR1-0e"
      }
    },
    {
      "cell_type": "code",
      "execution_count": null,
      "metadata": {
        "id": "RikaWMhgoSpU"
      },
      "outputs": [],
      "source": [
        "#1. Write a code to create a string with your name and print it.\n",
        "\n",
        "# Creating a string with my name\n",
        "my_name = \"Bhavesh Tanwani\"\n",
        "\n",
        "# Printing the string\n",
        "print(my_name)"
      ]
    },
    {
      "cell_type": "code",
      "source": [
        "#2. Write a code to find the length of the string \"Hello World\".\n",
        "\n",
        "# Defining the string\n",
        "text = \"Hello World\"\n",
        "\n",
        "# Finding the length of the string\n",
        "length = len(text)\n",
        "\n",
        "# Printing the length\n",
        "print(length)\n"
      ],
      "metadata": {
        "id": "3XHBS4QZ2tmR"
      },
      "execution_count": null,
      "outputs": []
    },
    {
      "cell_type": "code",
      "source": [
        "#3.  Write a code to slice the first 3 characters from the string \"Python Programming\".\n",
        "\n",
        "# Defining the string\n",
        "text = \"Python Programming\"\n",
        "\n",
        "# Slicing the first 3 characters\n",
        "sliced_text = text[:3]\n",
        "\n",
        "# Printing the sliced string\n",
        "print(sliced_text)\n"
      ],
      "metadata": {
        "id": "643PI8DZ3KtI"
      },
      "execution_count": null,
      "outputs": []
    },
    {
      "cell_type": "code",
      "source": [
        "#4. Write a code to convert the string \"hello\" to uppercase.\n",
        "\n",
        "# Defining the string\n",
        "text = \"hello\"\n",
        "\n",
        "# Converting the string to uppercase\n",
        "uppercase_text = text.upper()\n",
        "\n",
        "# Printing the uppercase string\n",
        "print(uppercase_text)\n"
      ],
      "metadata": {
        "id": "aXE854SJ3WEV"
      },
      "execution_count": null,
      "outputs": []
    },
    {
      "cell_type": "code",
      "source": [
        "#5. Write a code to replace the word \"apple\" with \"orange\" in the string \"I like apple\".\n",
        "\n",
        "# Defining the string\n",
        "text = \"I like apple\"\n",
        "\n",
        "# Replacing \"apple\" with \"orange\"\n",
        "new_text = text.replace(\"apple\", \"orange\")\n",
        "\n",
        "# Printing the updated string\n",
        "print(new_text)\n"
      ],
      "metadata": {
        "id": "eMj_SkW33g1q"
      },
      "execution_count": null,
      "outputs": []
    },
    {
      "cell_type": "code",
      "source": [
        "#6. Write a code to create a list with numbers 1 to 5 and print it.\n",
        "\n",
        "# Creating a list with numbers 1 to 5\n",
        "numbers = [1, 2, 3, 4, 5]\n",
        "\n",
        "# Printing the list\n",
        "print(numbers)\n"
      ],
      "metadata": {
        "id": "9jEoP-Fb4dA4"
      },
      "execution_count": null,
      "outputs": []
    },
    {
      "cell_type": "code",
      "source": [
        "#7. Write a code to append the number 10 to the list [1, 2, 3, 4].\n",
        "\n",
        "# Defining the list\n",
        "numbers = [1, 2, 3, 4]\n",
        "\n",
        "# Appending the number 10 to the list\n",
        "numbers.append(10)\n",
        "\n",
        "# Printing the updated list\n",
        "print(numbers)\n"
      ],
      "metadata": {
        "id": "4Om9kiV84p_F"
      },
      "execution_count": null,
      "outputs": []
    },
    {
      "cell_type": "code",
      "source": [
        "#8. Write a code to remove the number 3 from the list [1, 2, 3, 4, 5].\n",
        "\n",
        "# Defining the list\n",
        "numbers = [1, 2, 3, 4, 5]\n",
        "\n",
        "# Removing the number 3 from the list\n",
        "numbers.remove(3)\n",
        "\n",
        "# Printing the updated list\n",
        "print(numbers)\n"
      ],
      "metadata": {
        "id": "3jcMDTQD415U"
      },
      "execution_count": null,
      "outputs": []
    },
    {
      "cell_type": "code",
      "source": [
        "#9. Write a code to access the second element in the list ['a', 'b', 'c', 'd'].\n",
        "\n",
        "# Defining the list\n",
        "letters = ['a', 'b', 'c', 'd']\n",
        "\n",
        "# Accessing the second element (index 1)\n",
        "second_element = letters[1]\n",
        "\n",
        "# Printing the second element\n",
        "print(second_element)\n"
      ],
      "metadata": {
        "id": "LAVeyZO84-1O"
      },
      "execution_count": null,
      "outputs": []
    },
    {
      "cell_type": "code",
      "source": [
        "#10. Write a code to reverse the list [10, 20, 30, 40, 50].\n",
        "\n",
        "# Defining the list\n",
        "numbers = [10, 20, 30, 40, 50]\n",
        "\n",
        "# Reversing the list\n",
        "numbers.reverse()\n",
        "\n",
        "# Printing the reversed list\n",
        "print(numbers)\n"
      ],
      "metadata": {
        "id": "Zrqmp4ja5I8j"
      },
      "execution_count": null,
      "outputs": []
    },
    {
      "cell_type": "code",
      "source": [
        "#11. Write a code to create a tuple with the elements 100, 200, 300 and print it.\n",
        "\n",
        "# Creating the tuple\n",
        "my_tuple = (100, 200, 300)\n",
        "\n",
        "# Printing the tuple\n",
        "print(my_tuple)\n"
      ],
      "metadata": {
        "id": "-_owshOL5S7I"
      },
      "execution_count": null,
      "outputs": []
    },
    {
      "cell_type": "code",
      "source": [
        "#12. Write a code to access the second-to-last element of the tuple ('red', 'green', 'blue', 'yellow').\n",
        "\n",
        "# Defining the tuple\n",
        "colors = ('red', 'green', 'blue', 'yellow')\n",
        "\n",
        "# Accessing the second-to-last element\n",
        "second_to_last = colors[2]\n",
        "\n",
        "# Printing the second-to-last element\n",
        "print(second_to_last)\n"
      ],
      "metadata": {
        "id": "Zda8Sj4O5bub"
      },
      "execution_count": null,
      "outputs": []
    },
    {
      "cell_type": "code",
      "source": [
        "#13. Write a code to find the minimum number in the tuple (10, 20, 5, 15).\n",
        "\n",
        "# Defining the tuple\n",
        "numbers = (10, 20, 5, 15)\n",
        "\n",
        "# Finding the minimum number in the tuple\n",
        "min_number = min(numbers)\n",
        "\n",
        "# Printing the minimum number\n",
        "print(min_number)\n"
      ],
      "metadata": {
        "id": "WFFMq8ef5o0_"
      },
      "execution_count": null,
      "outputs": []
    },
    {
      "cell_type": "code",
      "source": [
        "#14. Write a code to find the index of the element \"cat\" in the tuple ('dog', 'cat', 'rabbit').\n",
        "\n",
        "# Defining the tuple\n",
        "animals = ('dog', 'cat', 'rabbit')\n",
        "\n",
        "# Finding the index of the element \"cat\"\n",
        "index_of_cat = animals.index('cat')\n",
        "\n",
        "# Printing the index of \"cat\"\n",
        "print(index_of_cat)\n"
      ],
      "metadata": {
        "id": "1qoRY7u_55pR"
      },
      "execution_count": null,
      "outputs": []
    },
    {
      "cell_type": "code",
      "source": [
        "#15.  Write a code to create a tuple containing three different fruits and check if \"kiwi\" is in it.\n",
        "\n",
        "# Creating the tuple with three different fruits\n",
        "fruits = ('apple', 'banana', 'orange')\n",
        "\n",
        "# Checking if \"kiwi\" is in the tuple\n",
        "is_kiwi_in_tuple = 'kiwi' in fruits\n",
        "\n",
        "# Printing the result\n",
        "print(is_kiwi_in_tuple)\n"
      ],
      "metadata": {
        "id": "3UTkq7YT6DDI"
      },
      "execution_count": null,
      "outputs": []
    },
    {
      "cell_type": "code",
      "source": [
        "#16. Write a code to create a set with the elements 'a', 'b', 'c' and print it.\n",
        "\n",
        "# Creating the set with elements 'a', 'b', 'c'\n",
        "my_set = {'a', 'b', 'c'}\n",
        "\n",
        "# Printing the set\n",
        "print(my_set)\n"
      ],
      "metadata": {
        "id": "Vvo-cXwT6OMI"
      },
      "execution_count": null,
      "outputs": []
    },
    {
      "cell_type": "code",
      "source": [
        "#17. Write a code to clear all elements from the set {1, 2, 3, 4, 5}.\n",
        "\n",
        "# Defining the set\n",
        "my_set = {1, 2, 3, 4, 5}\n",
        "\n",
        "# Clearing all elements from the set\n",
        "my_set.clear()\n",
        "\n",
        "# Printing the cleared set\n",
        "print(my_set)\n"
      ],
      "metadata": {
        "id": "hSNvOj4p6YFr"
      },
      "execution_count": null,
      "outputs": []
    },
    {
      "cell_type": "code",
      "source": [
        "#18. Write a code to remove the element 4 from the set {1, 2, 3, 4}.\n",
        "\n",
        "# Defining the set\n",
        "my_set = {1, 2, 3, 4}\n",
        "\n",
        "# Removing the element 4 from the set\n",
        "my_set.remove(4)\n",
        "\n",
        "# Printing the updated set\n",
        "print(my_set)\n"
      ],
      "metadata": {
        "id": "dJjqy59-6fUO"
      },
      "execution_count": null,
      "outputs": []
    },
    {
      "cell_type": "code",
      "source": [
        "#19. Write a code to find the union of two sets {1, 2, 3} and {3, 4, 5}\n",
        "\n",
        "# Defining the sets\n",
        "set1 = {1, 2, 3}\n",
        "set2 = {3, 4, 5}\n",
        "\n",
        "# Finding the union of the two sets\n",
        "union_set = set1.union(set2)\n",
        "\n",
        "# Printing the union of the sets\n",
        "print(union_set)\n"
      ],
      "metadata": {
        "id": "YngToBva6nMJ"
      },
      "execution_count": null,
      "outputs": []
    },
    {
      "cell_type": "code",
      "source": [
        "#20. Write a code to find the intersection of two sets {1, 2, 3} and {2, 3, 4}\n",
        "\n",
        "# Defining the sets\n",
        "set1 = {1, 2, 3}\n",
        "set2 = {2, 3, 4}\n",
        "\n",
        "# Finding the intersection of the two sets\n",
        "intersection_set = set1.intersection(set2)\n",
        "\n",
        "# Printing the intersection of the sets\n",
        "print(intersection_set)\n"
      ],
      "metadata": {
        "id": "r1xjmjcU6v-m"
      },
      "execution_count": null,
      "outputs": []
    },
    {
      "cell_type": "code",
      "source": [
        "#21. Write a code to create a dictionary with the keys \"name\", \"age\", and \"city\", and print it.\n",
        "\n",
        "# Creating the dictionary\n",
        "person = {\n",
        "    \"name\": \"John\",\n",
        "    \"age\": 30,\n",
        "    \"city\": \"New York\"\n",
        "}\n",
        "\n",
        "# Printing the dictionary\n",
        "print(person)\n"
      ],
      "metadata": {
        "id": "01pnIOxl64Vf"
      },
      "execution_count": null,
      "outputs": []
    },
    {
      "cell_type": "code",
      "source": [
        "#22.  Write a code to add a new key-value pair \"country\": \"USA\" to the dictionary {'name': 'John', 'age': 25}.\n",
        "\n",
        "# Defining the original dictionary\n",
        "person = {'name': 'John', 'age': 25}\n",
        "\n",
        "# Adding a new key-value pair to the dictionary\n",
        "person['country'] = 'USA'\n",
        "\n",
        "# Printing the updated dictionary\n",
        "print(person)\n"
      ],
      "metadata": {
        "id": "sWkaI2ub7c54"
      },
      "execution_count": null,
      "outputs": []
    },
    {
      "cell_type": "code",
      "source": [
        "#23. Write a code to access the value associated with the key \"name\" in the dictionary {'name': 'Alice', 'age': 30}.\n",
        "\n",
        "# Defining the dictionary\n",
        "person = {'name': 'Alice', 'age': 30}\n",
        "\n",
        "# Accessing the value associated with the key \"name\"\n",
        "name_value = person['name']\n",
        "\n",
        "# Printing the value\n",
        "print(name_value)\n"
      ],
      "metadata": {
        "id": "rHuEh-Tw7nrb"
      },
      "execution_count": null,
      "outputs": []
    },
    {
      "cell_type": "code",
      "source": [
        "#24. Write a code to remove the key \"age\" from the dictionary {'name': 'Bob', 'age': 22, 'city': 'New York'}.\n",
        "\n",
        "# Defining the dictionary\n",
        "person = {'name': 'Bob', 'age': 22, 'city': 'New York'}\n",
        "\n",
        "# Removing the key \"age\" from the dictionary\n",
        "del person['age']\n",
        "\n",
        "# Printing the updated dictionary\n",
        "print(person)\n"
      ],
      "metadata": {
        "id": "-78mybUj7xV-"
      },
      "execution_count": null,
      "outputs": []
    },
    {
      "cell_type": "code",
      "source": [
        "#25. Write a code to check if the key \"city\" exists in the dictionary {'name': 'Alice', 'city': 'Paris'}.\n",
        "\n",
        "# Defining the dictionary\n",
        "person = {'name': 'Alice', 'city': 'Paris'}\n",
        "\n",
        "# Checking if the key \"city\" exists in the dictionary\n",
        "if 'city' in person:\n",
        "    print(\"The key 'city' exists in the dictionary.\")\n",
        "else:\n",
        "    print(\"The key 'city' does not exist in the dictionary.\")\n",
        "\n",
        "\n"
      ],
      "metadata": {
        "id": "HSdGPwJI76Kx"
      },
      "execution_count": null,
      "outputs": []
    },
    {
      "cell_type": "code",
      "source": [
        "#26. Write a code to create a list, a tuple, and a dictionary, and print them all.\n",
        "\n",
        "# Creating a list\n",
        "my_list = [1, 2, 3, 4, 5]\n",
        "\n",
        "# Creating a tuple\n",
        "my_tuple = ('apple', 'banana', 'cherry')\n",
        "\n",
        "# Creating a dictionary\n",
        "my_dict = {'name': 'Alice', 'age': 25, 'city': 'New York'}\n",
        "\n",
        "# Printing the list, tuple, and dictionary\n",
        "print(\"List:\", my_list)\n",
        "print(\"Tuple:\", my_tuple)\n",
        "print(\"Dictionary:\", my_dict)\n"
      ],
      "metadata": {
        "id": "P5mL2bMh8F4C"
      },
      "execution_count": null,
      "outputs": []
    },
    {
      "cell_type": "code",
      "source": [
        "#27. Write a code to create a list of 5 random numbers between 1 and 100, sort it in ascending order, and print the result.(replaced)\n",
        "\n",
        "import random\n",
        "\n",
        "# Creating a list of 5 random numbers between 1 and 100\n",
        "random_numbers = [random.randint(1, 100) for _ in range(5)]\n",
        "\n",
        "# Sorting the list in ascending order\n",
        "random_numbers.sort()\n",
        "\n",
        "# Printing the sorted list\n",
        "print(\"Sorted list:\", random_numbers)\n"
      ],
      "metadata": {
        "id": "ivre1FbD8Rio"
      },
      "execution_count": null,
      "outputs": []
    },
    {
      "cell_type": "code",
      "source": [
        "#28.  Write a code to create a list with strings and print the element at the third index.\n",
        "\n",
        "# Creating a list with strings\n",
        "my_list = [\"apple\", \"banana\", \"cherry\", \"date\", \"elderberry\"]\n",
        "\n",
        "# Accessing and printing the element at the third index (index 3)\n",
        "print(my_list[3])\n"
      ],
      "metadata": {
        "id": "u40SZDWB8h3t"
      },
      "execution_count": null,
      "outputs": []
    },
    {
      "cell_type": "code",
      "source": [
        "#29.  Write a code to combine two dictionaries into one and print the result.\n",
        "\n",
        "# Defining two dictionaries\n",
        "dict1 = {'name': 'Alice', 'age': 25}\n",
        "dict2 = {'city': 'New York', 'job': 'Engineer'}\n",
        "\n",
        "# Combining the two dictionaries\n",
        "combined_dict = {**dict1, **dict2}\n",
        "\n",
        "# Printing the combined dictionary\n",
        "print(combined_dict)\n"
      ],
      "metadata": {
        "id": "qNbQc4xN8swB"
      },
      "execution_count": null,
      "outputs": []
    },
    {
      "cell_type": "code",
      "source": [
        "#30. Write a code to convert a list of strings into a set.\n",
        "\n",
        "# Defining a list of strings\n",
        "string_list = [\"apple\", \"banana\", \"cherry\", \"apple\", \"orange\"]\n",
        "\n",
        "# Converting the list into a set\n",
        "string_set = set(string_list)\n",
        "\n",
        "# Printing the set\n",
        "print(string_set)\n"
      ],
      "metadata": {
        "id": "xyzNaQV_81gO"
      },
      "execution_count": null,
      "outputs": []
    }
  ]
}